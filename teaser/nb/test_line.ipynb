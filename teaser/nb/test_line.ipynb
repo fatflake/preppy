{
 "metadata": {
  "name": ""
 },
 "nbformat": 3,
 "nbformat_minor": 0,
 "worksheets": [
  {
   "cells": [
    {
     "cell_type": "code",
     "collapsed": false,
     "input": [
      "%matplotlib inline"
     ],
     "language": "python",
     "metadata": {},
     "outputs": [],
     "prompt_number": 1
    },
    {
     "cell_type": "code",
     "collapsed": false,
     "input": [
      "import sys\n",
      "sys.path.insert(1, '../code/')\n",
      "import zt_io\n",
      "import zt_utils\n",
      "import numpy as np\n",
      "from matplotlib import pylab as plt"
     ],
     "language": "python",
     "metadata": {},
     "outputs": [],
     "prompt_number": 2
    },
    {
     "cell_type": "code",
     "collapsed": false,
     "input": [
      "two_points = np.random.random(size=(2,2))\n",
      "# print 'two_points:',two_points\n",
      "p1, p2 = two_points[0,:], two_points[1,:]\n",
      "print 'p1:',p1,'p2:',p2\n",
      "plt.plot(p1[0], p1[1], 'ro');\n",
      "plt.plot(p2[0], p2[1], 'ro');\n",
      "\n",
      "x = np.linspace(0.,1,100)\n",
      "m, y0 = zt_utils.compute_line([p1[0], p2[0]], [p1[1], p2[1]])\n",
      "y = m * x + y0\n",
      "print 'm:',m,'y0:',y0\n",
      "plt.plot(x,y)\n",
      "\n",
      "plt.show()"
     ],
     "language": "python",
     "metadata": {},
     "outputs": [
      {
       "output_type": "stream",
       "stream": "stdout",
       "text": [
        "p1: [ 0.01082895  0.41478995] p2: [ 0.26273325  0.49008747]\n",
        "m:"
       ]
      },
      {
       "output_type": "stream",
       "stream": "stdout",
       "text": [
        " 0.298913154103 y0: 0.411553039672\n"
       ]
      },
      {
       "metadata": {},
       "output_type": "display_data",
       "png": "[encoded data removed]",
       "text": [
        "<matplotlib.figure.Figure at 0x7f9647e66dd0>"
       ]
      }
     ],
     "prompt_number": 3
    },
    {
     "cell_type": "code",
     "collapsed": false,
     "input": [
      "p3 = np.random.random(2)\n",
      "print 'p3:',p3\n",
      "plt.plot(p3[0], p3[1], 'yo')\n",
      "\n",
      "plt.plot(p1[0], p1[1], 'ro');\n",
      "plt.plot(p2[0], p2[1], 'ro');\n",
      "\n",
      "plt.plot(x,y)\n",
      "\n",
      "nn = zt_utils.compute_nearest_point(p3, m, y0)\n",
      "print 'nn:',nn\n",
      "plt.plot(nn[0], nn[1], 'go')\n",
      "\n",
      "plt.show()"
     ],
     "language": "python",
     "metadata": {},
     "outputs": [
      {
       "output_type": "stream",
       "stream": "stdout",
       "text": [
        "p3: [ 0.30176213  0.85416713]\n",
        "nn:"
       ]
      },
      {
       "output_type": "stream",
       "stream": "stdout",
       "text": [
        " [0.43077792801027104, 0.42376033215375042]\n"
       ]
      },
      {
       "metadata": {},
       "output_type": "display_data",
       "png": "[encoded data removed]",
       "text": [
        "<matplotlib.figure.Figure at 0x7f9647e4fbd0>"
       ]
      }
     ],
     "prompt_number": 12
    },
    {
     "cell_type": "code",
     "collapsed": false,
     "input": [],
     "language": "python",
     "metadata": {},
     "outputs": []
    }
   ],
   "metadata": {}
  }
 ]
}