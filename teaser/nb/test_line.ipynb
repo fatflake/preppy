{
 "metadata": {
  "name": ""
 },
 "nbformat": 3,
 "nbformat_minor": 0,
 "worksheets": [
  {
   "cells": [
    {
     "cell_type": "code",
     "collapsed": false,
     "input": [
      "%matplotlib inline"
     ],
     "language": "python",
     "metadata": {},
     "outputs": [],
     "prompt_number": 13
    },
    {
     "cell_type": "code",
     "collapsed": false,
     "input": [
      "import sys\n",
      "sys.path.insert(1, '../code/')\n",
      "import zt_io\n",
      "import zt_utils\n",
      "reload(zt_utils)\n",
      "import numpy as np\n",
      "from matplotlib import pylab as plt"
     ],
     "language": "python",
     "metadata": {},
     "outputs": [],
     "prompt_number": 45
    },
    {
     "cell_type": "code",
     "collapsed": false,
     "input": [
      "two_points = np.random.random(size=(2,2))\n",
      "# print 'two_points:',two_points\n",
      "p1, p2 = two_points[0,:], two_points[1,:]\n",
      "print 'p1:',p1,'p2:',p2\n",
      "plt.plot(p1[0], p1[1], 'ro');\n",
      "plt.plot(p2[0], p2[1], 'ro');\n",
      "\n",
      "x = np.linspace(0.,1,100)\n",
      "m, y0 = zt_utils.compute_line([p1[0], p2[0]], [p1[1], p2[1]])\n",
      "y = m * x + y0\n",
      "print 'm:',m,'y0:',y0\n",
      "plt.plot(x,y)\n",
      "\n",
      "plt.show()"
     ],
     "language": "python",
     "metadata": {},
     "outputs": [
      {
       "output_type": "stream",
       "stream": "stdout",
       "text": [
        "p1: [ 0.21770051  0.92355324] p2: [ 0.49889181  0.23339243]\n",
        "m:"
       ]
      },
      {
       "output_type": "stream",
       "stream": "stdout",
       "text": [
        " -2.45441739691 y0: 1.45788115784\n"
       ]
      },
      {
       "metadata": {},
       "output_type": "display_data",
       "png": "[encoded data removed]",
       "text": [
        "<matplotlib.figure.Figure at 0x7f964e807890>"
       ]
      }
     ],
     "prompt_number": 62
    },
    {
     "cell_type": "code",
     "collapsed": false,
     "input": [
      "p3 = np.random.random(2)\n",
      "print 'p3:',p3\n",
      "plt.plot(p3[0], p3[1], 'yo')\n",
      "\n",
      "plt.plot(p1[0], p1[1], 'ro');\n",
      "plt.plot(p2[0], p2[1], 'ro');\n",
      "\n",
      "plt.plot(x,y)\n",
      "plt.plot(0.,1., 'ro')\n",
      "nn = zt_utils.compute_nearest_point(p3, m, y0)\n",
      "print 'nn:',nn\n",
      "plt.plot(nn[0], nn[1], 'go')\n",
      "\n",
      "plt.axes().set_aspect('equal')\n",
      "plt.ylim([0.,1])\n",
      "plt.show()"
     ],
     "language": "python",
     "metadata": {},
     "outputs": [
      {
       "output_type": "stream",
       "stream": "stdout",
       "text": [
        "p3: [ 0.29800748  0.88851858]\n",
        "nn:"
       ]
      },
      {
       "output_type": "stream",
       "stream": "stdout",
       "text": [
        " [0.24137544504904601, 0.86544506632768392]\n"
       ]
      },
      {
       "metadata": {},
       "output_type": "display_data",
       "png": "[encoded data removed]",
       "text": [
        "<matplotlib.figure.Figure at 0x7f964774e6d0>"
       ]
      }
     ],
     "prompt_number": 66
    },
    {
     "cell_type": "code",
     "collapsed": false,
     "input": [],
     "language": "python",
     "metadata": {},
     "outputs": [],
     "prompt_number": 54
    },
    {
     "cell_type": "code",
     "collapsed": false,
     "input": [],
     "language": "python",
     "metadata": {},
     "outputs": []
    }
   ],
   "metadata": {}
  }
 ]
}